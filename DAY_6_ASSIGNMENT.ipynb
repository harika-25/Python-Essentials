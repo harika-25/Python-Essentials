{
  "nbformat": 4,
  "nbformat_minor": 0,
  "metadata": {
    "colab": {
      "name": "DAY 6 ASSIGNMENT.ipynb",
      "provenance": [],
      "authorship_tag": "ABX9TyPsFpadSZ4wFeWeFyZ0sbd7",
      "include_colab_link": true
    },
    "kernelspec": {
      "name": "python3",
      "display_name": "Python 3"
    }
  },
  "cells": [
    {
      "cell_type": "markdown",
      "metadata": {
        "id": "view-in-github",
        "colab_type": "text"
      },
      "source": [
        "<a href=\"https://colab.research.google.com/github/harika-25/Python-Essentials/blob/master/DAY_6_ASSIGNMENT.ipynb\" target=\"_parent\"><img src=\"https://colab.research.google.com/assets/colab-badge.svg\" alt=\"Open In Colab\"/></a>"
      ]
    },
    {
      "cell_type": "markdown",
      "metadata": {
        "id": "e2yzCsf-oBM_",
        "colab_type": "text"
      },
      "source": [
        "ASSIGNMENT 1  DAY 6"
      ]
    },
    {
      "cell_type": "code",
      "metadata": {
        "id": "N5NaZkmjq6I4",
        "colab_type": "code",
        "colab": {}
      },
      "source": [
        "class bank:\n",
        "    def __init__(self,ownername,balance):\n",
        "        self.ownername = ownername\n",
        "        self.balance = balance\n",
        "\n",
        "    def deposit(self,amount):\n",
        "        self.balance +=amount\n",
        "        print(\"your updated balance is :\", self.balance)\n",
        "        \n",
        "    def withdraw(self,amount):\n",
        "        if(self.balance>amount):\n",
        "            self.balance-=amount\n",
        "            print(\"your updated balance is :\", self.balance)\n",
        "        else:\n",
        "            print(\"you don't have enough cradit in your account\",self.balance)\n",
        "\n"
      ],
      "execution_count": null,
      "outputs": []
    },
    {
      "cell_type": "code",
      "metadata": {
        "id": "eJVwvUzbq7Ol",
        "colab_type": "code",
        "colab": {
          "base_uri": "https://localhost:8080/",
          "height": 34
        },
        "outputId": "5dac8c1e-fb18-4f27-a78f-7e6ba4c0c8f0"
      },
      "source": [
        "harika = bank(\"harika\",30000)\n",
        "harika.deposit(5000)"
      ],
      "execution_count": 18,
      "outputs": [
        {
          "output_type": "stream",
          "text": [
            "your updated balance is : 35000\n"
          ],
          "name": "stdout"
        }
      ]
    },
    {
      "cell_type": "code",
      "metadata": {
        "id": "F5F7pUdNrU04",
        "colab_type": "code",
        "colab": {
          "base_uri": "https://localhost:8080/",
          "height": 34
        },
        "outputId": "fdfc39c5-7a19-4a47-fcd9-ee86540bef4c"
      },
      "source": [
        "harika.withdraw(30000)"
      ],
      "execution_count": 19,
      "outputs": [
        {
          "output_type": "stream",
          "text": [
            "your updated balance is : 5000\n"
          ],
          "name": "stdout"
        }
      ]
    },
    {
      "cell_type": "markdown",
      "metadata": {
        "id": "JwHuWnCcr0RX",
        "colab_type": "text"
      },
      "source": [
        "ASSIGNMENT 2"
      ]
    },
    {
      "cell_type": "code",
      "metadata": {
        "id": "idMRkhfOx06V",
        "colab_type": "code",
        "colab": {}
      },
      "source": [
        "import math\n",
        "class cone:\n",
        "    def __init__(self,radius,height):\n",
        "        self.radius=radius\n",
        "        self.height=height\n",
        "        \n",
        "    def volume(self):\n",
        "        vol = math.pi * (self.radius**2) * (self.height/3)\n",
        "        print(\"Volume of this cone is : \",vol)\n",
        "        \n",
        "    def surfaceArea(self):\n",
        "        area = math.pi* self.radius *(self.radius+(math.sqrt((self.radius**2)+(self.height**2))))\n",
        "        print(\"Surface area of this cone is \",area)\n"
      ],
      "execution_count": 29,
      "outputs": []
    },
    {
      "cell_type": "code",
      "metadata": {
        "id": "HzO40R29yBTl",
        "colab_type": "code",
        "colab": {}
      },
      "source": [
        "con = cone(5,6)\n"
      ],
      "execution_count": 30,
      "outputs": []
    },
    {
      "cell_type": "code",
      "metadata": {
        "id": "4EpEMyDPypaB",
        "colab_type": "code",
        "colab": {
          "base_uri": "https://localhost:8080/",
          "height": 34
        },
        "outputId": "ebea4cb9-1800-4988-d925-789befaff835"
      },
      "source": [
        "con.volume()"
      ],
      "execution_count": 32,
      "outputs": [
        {
          "output_type": "stream",
          "text": [
            "Volume of this cone is :  157.07963267948966\n"
          ],
          "name": "stdout"
        }
      ]
    },
    {
      "cell_type": "code",
      "metadata": {
        "id": "zj1ZbriWy7IZ",
        "colab_type": "code",
        "colab": {
          "base_uri": "https://localhost:8080/",
          "height": 34
        },
        "outputId": "0dd17a16-0b4e-45d6-bfc2-5a7ac284c68c"
      },
      "source": [
        "con.surfaceArea()"
      ],
      "execution_count": 34,
      "outputs": [
        {
          "output_type": "stream",
          "text": [
            "Surface area of this cone is  201.22293136239685\n"
          ],
          "name": "stdout"
        }
      ]
    }
  ]
}