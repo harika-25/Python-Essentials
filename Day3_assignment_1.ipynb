{
  "nbformat": 4,
  "nbformat_minor": 0,
  "metadata": {
    "colab": {
      "name": "Day3 assignment 1.ipynb",
      "provenance": [],
      "authorship_tag": "ABX9TyP8qWv9EbauDLvoU7795cAa",
      "include_colab_link": true
    },
    "kernelspec": {
      "name": "python3",
      "display_name": "Python 3"
    }
  },
  "cells": [
    {
      "cell_type": "markdown",
      "metadata": {
        "id": "view-in-github",
        "colab_type": "text"
      },
      "source": [
        "<a href=\"https://colab.research.google.com/github/harika-25/Python-Essentials/blob/master/Day3_assignment_1.ipynb\" target=\"_parent\"><img src=\"https://colab.research.google.com/assets/colab-badge.svg\" alt=\"Open In Colab\"/></a>"
      ]
    },
    {
      "cell_type": "markdown",
      "metadata": {
        "id": "MeU1QuemhrGv",
        "colab_type": "text"
      },
      "source": [
        "Day-3 assignement 1"
      ]
    },
    {
      "cell_type": "code",
      "metadata": {
        "id": "6U8cwRMihrlU",
        "colab_type": "code",
        "colab": {
          "base_uri": "https://localhost:8080/",
          "height": 51
        },
        "outputId": "cc5d994c-d07a-4b48-9b23-6645fa443384"
      },
      "source": [
        "alt = input (\"Enter any number -\")\n",
        "alt = int (alt)\n",
        "if alt == 1000:\n",
        "   print(\"safe to land\")\n",
        "elif alt  < 5000:\n",
        "   print(\"bring down to 1000\")\n",
        "else:\n",
        "   print(\"turn around\")\n",
        "\n",
        "\n"
      ],
      "execution_count": null,
      "outputs": [
        {
          "output_type": "stream",
          "text": [
            "Enter any number -1000\n",
            "safe to land\n"
          ],
          "name": "stdout"
        }
      ]
    },
    {
      "cell_type": "code",
      "metadata": {
        "id": "4t1K82papo4T",
        "colab_type": "code",
        "colab": {
          "base_uri": "https://localhost:8080/",
          "height": 51
        },
        "outputId": "8fbd37a7-b47a-4448-a7ea-6d78417f7bc3"
      },
      "source": [
        "alt = input (\"Enter any number -\")\n",
        "alt = int (alt)\n",
        "if alt == 1000:\n",
        "   print(\"safe to land\")\n",
        "elif alt  < 5000:\n",
        "   print(\"bring down to 1000\")\n",
        "else:\n",
        "   print(\"turn around\")\n",
        "\n",
        "\n",
        "\n"
      ],
      "execution_count": null,
      "outputs": [
        {
          "output_type": "stream",
          "text": [
            "Enter any number -4500\n",
            "bring down to 1000\n"
          ],
          "name": "stdout"
        }
      ]
    },
    {
      "cell_type": "code",
      "metadata": {
        "id": "6I2u5kqsqOrL",
        "colab_type": "code",
        "colab": {
          "base_uri": "https://localhost:8080/",
          "height": 51
        },
        "outputId": "5bdd27d2-77fd-4b8f-e1c3-a5e688eb5f94"
      },
      "source": [
        "alt = input (\"Enter any number -\")\n",
        "alt = int (alt)\n",
        "if alt == 1000:\n",
        "   print(\"safe to land\")\n",
        "elif alt  < 5000:\n",
        "   print(\"bring down to 1000\")\n",
        "else:\n",
        "   print(\"Turn Around\")\n",
        "\n",
        "\n"
      ],
      "execution_count": null,
      "outputs": [
        {
          "output_type": "stream",
          "text": [
            "Enter any number -6500\n",
            "Turn Around\n"
          ],
          "name": "stdout"
        }
      ]
    },
    {
      "cell_type": "markdown",
      "metadata": {
        "id": "IKXuUYIWq6Cv",
        "colab_type": "text"
      },
      "source": [
        "Assignment 2 Day 3"
      ]
    },
    {
      "cell_type": "code",
      "metadata": {
        "id": "Zo6MTptHq9uQ",
        "colab_type": "code",
        "colab": {
          "base_uri": "https://localhost:8080/",
          "height": 799
        },
        "outputId": "73161071-f451-45b2-93af-3caf4a88b6ad"
      },
      "source": [
        "start = 2\n",
        "end = 200\n",
        "for i in range (start,end):\n",
        "  for j in range (2,i):\n",
        "    if i % j ==0:\n",
        "      break\n",
        "  else:\n",
        "        print(i)\n"
      ],
      "execution_count": 18,
      "outputs": [
        {
          "output_type": "stream",
          "text": [
            "2\n",
            "3\n",
            "5\n",
            "7\n",
            "11\n",
            "13\n",
            "17\n",
            "19\n",
            "23\n",
            "29\n",
            "31\n",
            "37\n",
            "41\n",
            "43\n",
            "47\n",
            "53\n",
            "59\n",
            "61\n",
            "67\n",
            "71\n",
            "73\n",
            "79\n",
            "83\n",
            "89\n",
            "97\n",
            "101\n",
            "103\n",
            "107\n",
            "109\n",
            "113\n",
            "127\n",
            "131\n",
            "137\n",
            "139\n",
            "149\n",
            "151\n",
            "157\n",
            "163\n",
            "167\n",
            "173\n",
            "179\n",
            "181\n",
            "191\n",
            "193\n",
            "197\n",
            "199\n"
          ],
          "name": "stdout"
        }
      ]
    }
  ]
}