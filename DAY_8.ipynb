{
  "nbformat": 4,
  "nbformat_minor": 0,
  "metadata": {
    "colab": {
      "name": "DAY 8.ipynb",
      "provenance": [],
      "collapsed_sections": [],
      "authorship_tag": "ABX9TyPIC6IvIjb3Qva9SwO7hOty",
      "include_colab_link": true
    },
    "kernelspec": {
      "name": "python3",
      "display_name": "Python 3"
    }
  },
  "cells": [
    {
      "cell_type": "markdown",
      "metadata": {
        "id": "view-in-github",
        "colab_type": "text"
      },
      "source": [
        "<a href=\"https://colab.research.google.com/github/harika-25/Python-Essentials/blob/master/DAY_8.ipynb\" target=\"_parent\"><img src=\"https://colab.research.google.com/assets/colab-badge.svg\" alt=\"Open In Colab\"/></a>"
      ]
    },
    {
      "cell_type": "markdown",
      "metadata": {
        "id": "1ti-zr-kFvCO",
        "colab_type": "text"
      },
      "source": [
        "ASSIGNMENT 1 DAY 8"
      ]
    },
    {
      "cell_type": "code",
      "metadata": {
        "id": "KdZNhGA5XV7O",
        "colab_type": "code",
        "colab": {}
      },
      "source": [
        "def getInput(calculate_arg_fun):\n",
        "    \n",
        "    def wrap_function():\n",
        "    \n",
        "        a = int(input(\"\\nEnter First Number - \"))\n",
        "        \n",
        "        b = int(input(\"\\nEnter Second Number - \"))\n",
        "        \n",
        "        calculate_arg_fun(a,b)   \n",
        "    \n",
        "    return wrap_function\n"
      ],
      "execution_count": 14,
      "outputs": []
    },
    {
      "cell_type": "code",
      "metadata": {
        "id": "cqpGhE-OXYKT",
        "colab_type": "code",
        "colab": {}
      },
      "source": [
        "@getInput\n",
        "\n",
        "def EvenFinder(start, last):\n",
        "    \n",
        "    print(\"\\nThe Even numbers in the range\",start,\"to\",last,\"is :\\n\")\n",
        "\n",
        "    for n in range(start, last + 1): \n",
        "      \n",
        "        if n % 2 == 0: \n",
        "            \n",
        "            print(n, end = \" \")\n"
      ],
      "execution_count": 20,
      "outputs": []
    },
    {
      "cell_type": "code",
      "metadata": {
        "id": "uNuNKGdHYVKU",
        "colab_type": "code",
        "colab": {}
      },
      "source": [
        "EvenFinder()\n"
      ],
      "execution_count": null,
      "outputs": []
    },
    {
      "cell_type": "markdown",
      "metadata": {
        "id": "M8EGxkjhFOhE",
        "colab_type": "text"
      },
      "source": [
        "ASSIGNMENT 2 DAY 8"
      ]
    },
    {
      "cell_type": "code",
      "metadata": {
        "id": "8EoGhkDjFO-u",
        "colab_type": "code",
        "colab": {
          "base_uri": "https://localhost:8080/",
          "height": 34
        },
        "outputId": "4e0c41f7-65e7-4344-a5ab-cd359b13df62"
      },
      "source": [
        "%%writefile test.txt\n",
        "\n",
        "This is the test file for the exception handling in python for the python course in letsupgrade Batch 7.\n"
      ],
      "execution_count": null,
      "outputs": [
        {
          "output_type": "stream",
          "text": [
            "Writing test.txt\n"
          ],
          "name": "stdout"
        }
      ]
    },
    {
      "cell_type": "code",
      "metadata": {
        "id": "iBzfXHfZFeym",
        "colab_type": "code",
        "colab": {
          "base_uri": "https://localhost:8080/",
          "height": 35
        },
        "outputId": "24038252-f81c-498b-a934-342170674b26"
      },
      "source": [
        "f = open(\"test.txt\",'r')\n",
        "f.read()\n"
      ],
      "execution_count": null,
      "outputs": [
        {
          "output_type": "execute_result",
          "data": {
            "application/vnd.google.colaboratory.intrinsic+json": {
              "type": "string"
            },
            "text/plain": [
              "'\\nThis is the test file for the exception handling in python for the python course in letsupgrade Batch 7.'"
            ]
          },
          "metadata": {
            "tags": []
          },
          "execution_count": 6
        }
      ]
    },
    {
      "cell_type": "code",
      "metadata": {
        "id": "rEDgg0JpFkvL",
        "colab_type": "code",
        "colab": {
          "base_uri": "https://localhost:8080/",
          "height": 34
        },
        "outputId": "386673e7-a2b9-4c8b-ef91-302d5520f335"
      },
      "source": [
        "try:\n",
        "    f.write(\"my first file\\n\")\n",
        "except:\n",
        "    print(\"unable to write to file due to the read mode of file\")\n",
        "finally:\n",
        "    f.close()\n"
      ],
      "execution_count": null,
      "outputs": [
        {
          "output_type": "stream",
          "text": [
            "unable to write to file due to the read mode of file\n"
          ],
          "name": "stdout"
        }
      ]
    }
  ]
}