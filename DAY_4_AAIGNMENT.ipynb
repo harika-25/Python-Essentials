{
  "nbformat": 4,
  "nbformat_minor": 0,
  "metadata": {
    "colab": {
      "name": "DAY 4 AAIGNMENT.ipynb",
      "provenance": [],
      "authorship_tag": "ABX9TyP0AtHUY2XNYq4t1Fjii9iH",
      "include_colab_link": true
    },
    "kernelspec": {
      "name": "python3",
      "display_name": "Python 3"
    }
  },
  "cells": [
    {
      "cell_type": "markdown",
      "metadata": {
        "id": "view-in-github",
        "colab_type": "text"
      },
      "source": [
        "<a href=\"https://colab.research.google.com/github/harika-25/Python-Essentials/blob/master/DAY_4_AAIGNMENT.ipynb\" target=\"_parent\"><img src=\"https://colab.research.google.com/assets/colab-badge.svg\" alt=\"Open In Colab\"/></a>"
      ]
    },
    {
      "cell_type": "markdown",
      "metadata": {
        "id": "gUcFLL19Ur_1",
        "colab_type": "text"
      },
      "source": [
        "DAY 4 ASSIGNMENT"
      ]
    },
    {
      "cell_type": "markdown",
      "metadata": {
        "id": "qab59lu9WNBn",
        "colab_type": "text"
      },
      "source": [
        " ArmStrong Number between 1042000 to 702648265\n"
      ]
    },
    {
      "cell_type": "code",
      "metadata": {
        "id": "fSFkuxFsWPdk",
        "colab_type": "code",
        "colab": {
          "base_uri": "https://localhost:8080/",
          "height": 34
        },
        "outputId": "01153785-42a4-4a1e-b7b4-a0b26422ef1d"
      },
      "source": [
        "check=0\n",
        "x=1042000\n",
        "while x <702648265:\n",
        "    order = len(str(x))\n",
        "    sum = 0\n",
        "    temp = x\n",
        "    while temp > 0:\n",
        "        digit = temp % 10\n",
        "        sum += digit ** order\n",
        "        temp //= 10\n",
        "\n",
        "    if x == sum:\n",
        "        print(\"The First Armstrong Nubmer is : \", x)\n",
        "        break\n",
        "    x = x+1\n"
      ],
      "execution_count": 3,
      "outputs": [
        {
          "output_type": "stream",
          "text": [
            "The First Armstrong Nubmer is :  1741725\n"
          ],
          "name": "stdout"
        }
      ]
    }
  ]
}